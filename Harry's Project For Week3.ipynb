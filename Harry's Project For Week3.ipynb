{
    "nbformat_minor": 1, 
    "cells": [
        {
            "source": "from bs4 import BeautifulSoup\nimport requests\nimport csv\nimport numpy as np\nimport pandas as pd\n\nsource = requests.get('https://en.wikipedia.org/wiki/List_of_postal_codes_of_Canada:_M').text\nsoup = BeautifulSoup(source, 'lxml')\n\nbody = soup.find('tbody').text\nbody = body.split('\\n')", 
            "cell_type": "code", 
            "metadata": {}, 
            "outputs": [], 
            "execution_count": 14
        }, 
        {
            "source": "To solve: The dataframe will consist of three columns: PostalCode, Borough, and Neighborhood", 
            "cell_type": "markdown", 
            "metadata": {}
        }, 
        {
            "source": "PostCode=[None]*288\nBorough=[None]*288\nNeighbourhood=[None]*288\n\nfor a in range(288):\n    PostCode[a] = body[6+a*5]\n\nfor b in range(288):    \n    Borough[b] = body[7+b*5]\n    \nfor c in range(288):\n    Neighbourhood[c] = body[8+c*5]\n\ncsv_file = open('neighborhoods in Toronto.csv','w')     \ncsv_writer = csv.writer(csv_file)\ncsv_writer.writerow(['PostCode','Borough','Neighbourhood'])\n\nfor i in range(288):\n    csv_writer.writerow([PostCode[i],Borough[i],Neighbourhood[i]])\n\ncsv_file.close()", 
            "cell_type": "code", 
            "metadata": {}, 
            "outputs": [], 
            "execution_count": 15
        }, 
        {
            "source": "To solve: Only process the cells that have an assigned borough. Ignore cells with a borough that is Not assigned.", 
            "cell_type": "markdown", 
            "metadata": {}
        }, 
        {
            "source": "data = pd.read_csv(\"neighborhoods in Toronto.csv\")\n\nfor i in range(288):\n    if data[\"Borough\"][i]=='Not assigned':\n        data[\"Borough\"][i]='0'\n        \na=data[(data.Borough=='0')].index.tolist()\ndata=data.drop(a)\ndata.reset_index(inplace=True)\ndata=data.drop(columns=[\"index\"])", 
            "cell_type": "code", 
            "metadata": {}, 
            "outputs": [], 
            "execution_count": 16
        }, 
        {
            "source": "To solve: More than one neighborhood can exist in one postal code area. For example, in the table on the Wikipedia page, you will notice that M5A is listed twice and has two neighborhoods: Harbourfront and Regent Park. These two rows will be combined into one row with the neighborhoods separated with a comma as shown in row 11 in the above table.", 
            "cell_type": "markdown", 
            "metadata": {}
        }, 
        {
            "source": "b=[]\nfor j in range(len(data['PostCode'])-1):\n    if data[\"PostCode\"][j] == data[\"PostCode\"][j+1] and data[\"Neighbourhood\"][j] != data[\"Neighbourhood\"][j+1]:\n        data[\"Neighbourhood\"][j] = data[\"Neighbourhood\"][j]+','+data[\"Neighbourhood\"][j+1]\n        b.append(j+1)\ndata=data.drop(b)\ndata.reset_index(inplace=True)\ndata=data.drop(columns=[\"index\"])\n\nb=[]\nfor j in range(len(data['PostCode'])-1):\n    if data[\"PostCode\"][j] == data[\"PostCode\"][j+1] and data[\"Neighbourhood\"][j] != data[\"Neighbourhood\"][j+1]:\n        data[\"Neighbourhood\"][j] = data[\"Neighbourhood\"][j]+','+data[\"Neighbourhood\"][j+1]\n        b.append(j+1)\ndata=data.drop(b)\ndata.reset_index(inplace=True)\ndata=data.drop(columns=[\"index\"])\n\nb=[]\nfor j in range(len(data['PostCode'])-1):\n    if data[\"PostCode\"][j] == data[\"PostCode\"][j+1] and data[\"Neighbourhood\"][j] != data[\"Neighbourhood\"][j+1]:\n        data[\"Neighbourhood\"][j] = data[\"Neighbourhood\"][j]+','+data[\"Neighbourhood\"][j+1]\n        b.append(j+1)\ndata=data.drop(b)\ndata.reset_index(inplace=True)\ndata=data.drop(columns=[\"index\"])\n\nb=[]\nfor j in range(len(data['PostCode'])-1):\n    if data[\"PostCode\"][j] == data[\"PostCode\"][j+1] and data[\"Neighbourhood\"][j] != data[\"Neighbourhood\"][j+1]:\n        data[\"Neighbourhood\"][j] = data[\"Neighbourhood\"][j]+','+data[\"Neighbourhood\"][j+1]\n        b.append(j+1)\ndata=data.drop(b)\ndata.reset_index(inplace=True)\ndata=data.drop(columns=[\"index\"])\n\nb=[]\nfor j in range(len(data['PostCode'])-1):\n    if data[\"PostCode\"][j] == data[\"PostCode\"][j+1] and data[\"Neighbourhood\"][j] != data[\"Neighbourhood\"][j+1]:\n        data[\"Neighbourhood\"][j] = data[\"Neighbourhood\"][j]+','+data[\"Neighbourhood\"][j+1]\n        b.append(j+1)\ndata=data.drop(b)\ndata.reset_index(inplace=True)\ndata=data.drop(columns=[\"index\"])\n\nb=[]\nfor j in range(len(data['PostCode'])-1):\n    if data[\"PostCode\"][j] == data[\"PostCode\"][j+1] and data[\"Neighbourhood\"][j] != data[\"Neighbourhood\"][j+1]:\n        data[\"Neighbourhood\"][j] = data[\"Neighbourhood\"][j]+','+data[\"Neighbourhood\"][j+1]\n        b.append(j+1)\ndata=data.drop(b)\ndata.reset_index(inplace=True)\ndata=data.drop(columns=[\"index\"])\n\nb=[]\nfor j in range(len(data['PostCode'])-1):\n    if data[\"PostCode\"][j] == data[\"PostCode\"][j+1] and data[\"Neighbourhood\"][j] != data[\"Neighbourhood\"][j+1]:\n        data[\"Neighbourhood\"][j] = data[\"Neighbourhood\"][j]+','+data[\"Neighbourhood\"][j+1]\n        b.append(j+1)\ndata=data.drop(b)\ndata.reset_index(inplace=True)\ndata=data.drop(columns=[\"index\"])\n\nb=[]\nfor j in range(len(data['PostCode'])-1):\n    if data[\"PostCode\"][j] == data[\"PostCode\"][j+1] and data[\"Neighbourhood\"][j] != data[\"Neighbourhood\"][j+1]:\n        data[\"Neighbourhood\"][j] = data[\"Neighbourhood\"][j]+','+data[\"Neighbourhood\"][j+1]\n        b.append(j+1)\ndata=data.drop(b)\ndata.reset_index(inplace=True)\ndata=data.drop(columns=[\"index\"])\n\nb=[]\nfor j in range(len(data['PostCode'])-1):\n    if data[\"PostCode\"][j] == data[\"PostCode\"][j+1] and data[\"Neighbourhood\"][j] != data[\"Neighbourhood\"][j+1]:\n        data[\"Neighbourhood\"][j] = data[\"Neighbourhood\"][j]+','+data[\"Neighbourhood\"][j+1]\n        b.append(j+1)\ndata=data.drop(b)\ndata.reset_index(inplace=True)\ndata=data.drop(columns=[\"index\"])\n\nb=[]\nfor j in range(len(data['PostCode'])-1):\n    if data[\"PostCode\"][j] == data[\"PostCode\"][j+1] and data[\"Neighbourhood\"][j] != data[\"Neighbourhood\"][j+1]:\n        data[\"Neighbourhood\"][j] = data[\"Neighbourhood\"][j]+','+data[\"Neighbourhood\"][j+1]\n        b.append(j+1)\ndata=data.drop(b)\ndata.reset_index(inplace=True)\ndata=data.drop(columns=[\"index\"])", 
            "cell_type": "code", 
            "metadata": {}, 
            "outputs": [], 
            "execution_count": 17
        }, 
        {
            "source": "To solve: If a cell has a borough but a Not assigned neighborhood, then the neighborhood will be the same as the borough. So for the 9th cell in the table on the Wikipedia page, the value of the Borough and the Neighborhood columns will be Queen's Park.", 
            "cell_type": "markdown", 
            "metadata": {}
        }, 
        {
            "source": "for k in range(103):\n    if data[\"Neighbourhood\"][k]=='Not assigned':\n        data[\"Neighbourhood\"][k]=data[\"Borough\"][k]", 
            "cell_type": "code", 
            "metadata": {}, 
            "outputs": [], 
            "execution_count": 18
        }, 
        {
            "source": "data.shape", 
            "cell_type": "code", 
            "metadata": {}, 
            "outputs": [
                {
                    "output_type": "execute_result", 
                    "data": {
                        "text/plain": "(103, 3)"
                    }, 
                    "execution_count": 20, 
                    "metadata": {}
                }
            ], 
            "execution_count": 20
        }
    ], 
    "metadata": {
        "kernelspec": {
            "display_name": "Python 3.5", 
            "name": "python3", 
            "language": "python"
        }, 
        "language_info": {
            "mimetype": "text/x-python", 
            "nbconvert_exporter": "python", 
            "version": "3.5.5", 
            "name": "python", 
            "pygments_lexer": "ipython3", 
            "file_extension": ".py", 
            "codemirror_mode": {
                "version": 3, 
                "name": "ipython"
            }
        }
    }, 
    "nbformat": 4
}